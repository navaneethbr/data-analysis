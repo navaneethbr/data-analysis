{
 "cells": [
  {
   "cell_type": "code",
   "execution_count": 1,
   "id": "3c312eb8-26f9-4946-b7f8-fee0d41688f1",
   "metadata": {
    "tags": []
   },
   "outputs": [],
   "source": [
    "import numpy as np\n",
    "import pandas as pd\n",
    "import matplotlib.pyplot as plt\n",
    "import scipy.stats as stats"
   ]
  },
  {
   "cell_type": "markdown",
   "id": "968c0e1c-1dea-4f07-9abf-7270b83a6985",
   "metadata": {},
   "source": [
    "## Uniform Distribution "
   ]
  },
  {
   "cell_type": "code",
   "execution_count": 69,
   "id": "d9f84f72-9ac0-4203-b8bf-e538b18930a3",
   "metadata": {
    "tags": []
   },
   "outputs": [],
   "source": [
    "uniform_data = stats.uniform.rvs(size=100000,  # Generate 100000 numbers\n",
    "                                 loc = 0,      # From 0 \n",
    "                                 scale=10) "
   ]
  },
  {
   "cell_type": "code",
   "execution_count": 76,
   "id": "941661fa-8370-45f2-bdd7-720eea1fd176",
   "metadata": {
    "tags": []
   },
   "outputs": [
    {
     "data": {
      "text/plain": [
       "<Axes: ylabel='Frequency'>"
      ]
     },
     "execution_count": 76,
     "metadata": {},
     "output_type": "execute_result"
    },
    {
     "data": {
      "image/png": "[encoded data removed]",
      "text/plain": [
       "<Figure size 500x200 with 1 Axes>"
      ]
     },
     "metadata": {},
     "output_type": "display_data"
    }
   ],
   "source": [
    "pd.DataFrame(uniform_data).plot(kind='hist', figsize=(5,2), xlim=(-1,11))"
   ]
  },
  {
   "cell_type": "code",
   "execution_count": 71,
   "id": "89ac7651-02eb-4884-ae9d-1c3f8b3906d9",
   "metadata": {
    "tags": []
   },
   "outputs": [],
   "source": [
    "temp = pd.DataFrame(uniform_data)"
   ]
  },
  {
   "cell_type": "code",
   "execution_count": 72,
   "id": "3b3cb145-7a75-4201-9b94-3bc0705c0ea0",
   "metadata": {
    "tags": []
   },
   "outputs": [
    {
     "data": {
      "text/plain": [
       "0    10172\n",
       "dtype: int64"
      ]
     },
     "execution_count": 72,
     "metadata": {},
     "output_type": "execute_result"
    }
   ],
   "source": [
    "temp.loc[temp[0]<1].count()"
   ]
  },
  {
   "cell_type": "code",
   "execution_count": null,
   "id": "0db287fa-a9e9-4ba7-ae0f-7b25323575be",
   "metadata": {},
   "outputs": [],
   "source": []
  }
 ],
 "metadata": {
  "kernelspec": {
   "display_name": "Python 3 (ipykernel)",
   "language": "python",
   "name": "python3"
  },
  "language_info": {
   "codemirror_mode": {
    "name": "ipython",
    "version": 3
   },
   "file_extension": ".py",
   "mimetype": "text/x-python",
   "name": "python",
   "nbconvert_exporter": "python",
   "pygments_lexer": "ipython3",
   "version": "3.11.5"
  }
 },
 "nbformat": 4,
 "nbformat_minor": 5
}
